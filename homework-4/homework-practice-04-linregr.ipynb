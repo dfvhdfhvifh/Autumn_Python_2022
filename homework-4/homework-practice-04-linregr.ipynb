{
 "cells": [
  {
   "cell_type": "markdown",
   "metadata": {},
   "source": [
    "# Домашнее задание 4 - предобработка признаков, pandas\n",
    "\n",
    "Дата выдачи: 28.09.2022\n",
    "\n",
    "Срок сдачи: 09.10.2022 23:59MSK\n",
    "\n",
    "### О задании\n",
    "\n",
    "Практическое задание 1 посвящено изучению основных библиотек для анализа данных, а также линейных моделей и методов их обучения. Вы научитесь:\n",
    " * применять библиотеки NumPy и Pandas для осуществления желаемых преобразований;\n",
    " * подготавливать данные для обучения линейных моделей;\n",
    " * обучать линейную, Lasso и Ridge-регрессии при помощи модуля scikit-learn;\n",
    " * реализовывать обычный и стохастический градиентные спуски;\n",
    " * обучать линейную регрессию для произвольного функционала качества.\n",
    " \n",
    "\n",
    "### Оценивание и штрафы\n",
    "\n",
    "Каждая из задач имеет определенную «стоимость» (указана в скобках около задачи). Максимально допустимая оценка за работу — 10 баллов. Кроме того, некоторые из заданий являются опциональными (необязательными), однако за их выполнение можно получить дополнительные баллы, которые позднее будут учитываться при проставлении оценок автоматом по курсу.\n",
    "\n",
    "Сдавать задание после указанного срока сдачи нельзя. При выставлении неполного балла за задание в связи с наличием ошибок на усмотрение проверяющего предусмотрена возможность исправить работу на указанных в ответном письме условиях.\n",
    "\n",
    "Задание выполняется самостоятельно. «Похожие» решения считаются плагиатом и все задействованные студенты (в том числе те, у кого списали) не могут получить за него больше 0 баллов (подробнее о плагиате см. на странице курса). Если вы нашли решение какого-то из заданий (или его часть) в открытом источнике, необходимо указать ссылку на этот источник в отдельном блоке в конце Вашей работы (скорее всего вы будете не единственным, кто это нашел, поэтому чтобы исключить подозрение в плагиате, необходима ссылка на источник). \n",
    "\n",
    "Неэффективная реализация кода может негативно отразиться на оценке.\n",
    "\n",
    "\n",
    "### Формат сдачи\n",
    "Для сдачи задания переименуйте получившийся файл \\*.ipynb в соответствии со следующим форматом: *HW4_Username.ipynb*, где *Username* — Ваша фамилия и инициалы на латинице (например, *HW4_IvanovII.ipynb*). Необходимо выложить файл с решением в свой репозиторий github."
   ]
  },
  {
   "cell_type": "markdown",
   "metadata": {},
   "source": [
    "## Библиотеки для анализа данных\n",
    "\n",
    "### NumPy\n",
    "\n",
    "Во всех заданиях данного раздела запрещено использовать циклы  и list comprehensions. Под вектором и матрицей в данных заданиях понимается одномерный и двумерный numpy.array соответственно."
   ]
  },
  {
   "cell_type": "code",
   "execution_count": 1,
   "metadata": {},
   "outputs": [],
   "source": [
    "import numpy as np"
   ]
  },
  {
   "cell_type": "markdown",
   "metadata": {},
   "source": [
    "**1. (0.2 балла)** Реализуйте функцию, возвращающую максимальный элемент в векторе x среди элементов, перед которыми стоит нулевой. Для x = np.array([6, 2, 0, 3, 0, 0, 5, 7, 0]) ответом является 5. Если нулевых элементов нет, функция должна возвращать None.\n"
   ]
  },
  {
   "cell_type": "code",
   "execution_count": 44,
   "metadata": {},
   "outputs": [
    {
     "data": {
      "text/plain": [
       "5"
      ]
     },
     "execution_count": 44,
     "metadata": {},
     "output_type": "execute_result"
    }
   ],
   "source": [
    "def max_element(arr):\n",
    "    zero_elem = np.flatnonzero(arr == 0)\n",
    "    if len(zero_elem) == 0:\n",
    "        return None\n",
    "    zero_elem += 1\n",
    "    new_arr = arr[zero_elem[np.flatnonzero(zero_elem < len(arr))]]\n",
    "    return max(new_arr)\n",
    "    \n",
    "x = np.array([6, 2, 0, 3, 0, 0, 5, 7, 0])\n",
    "max_element(x)"
   ]
  },
  {
   "cell_type": "markdown",
   "metadata": {},
   "source": [
    "**2. (0.2 балла)** Реализуйте функцию, принимающую на вход матрицу и некоторое число и возвращающую ближайший к числу элемент матрицы. Например: для X = np.arange(0,10).reshape((2, 5)) и v = 3.6 ответом будет 4."
   ]
  },
  {
   "cell_type": "code",
   "execution_count": 62,
   "metadata": {},
   "outputs": [
    {
     "data": {
      "text/plain": [
       "4"
      ]
     },
     "execution_count": 62,
     "metadata": {},
     "output_type": "execute_result"
    }
   ],
   "source": [
    "def nearest_value(X, v):\n",
    "    ind = np.unravel_index(np.argmin(abs(X - v)), X.shape)\n",
    "    return X[ind]\n",
    "\n",
    "X = np.arange(0, 10).reshape((2, 5))\n",
    "nearest_value(X, 3.6)"
   ]
  },
  {
   "cell_type": "markdown",
   "metadata": {},
   "source": [
    "**3. (0.2 балла)** Реализуйте функцию scale(X), которая принимает на вход матрицу и масштабирует каждый ее столбец (вычитает выборочное среднее и делит на стандартное отклонение). Убедитесь, что в функции не будет происходить деления на ноль. Протестируйте на случайной матрице (для её генерации можно использовать, например, функцию [numpy.random.randint](http://docs.scipy.org/doc/numpy/reference/generated/numpy.random.randint.html))."
   ]
  },
  {
   "cell_type": "code",
   "execution_count": 15,
   "metadata": {},
   "outputs": [
    {
     "data": {
      "text/plain": [
       "array([[-1., -1.,  0., -1.,  1.],\n",
       "       [ 1.,  1.,  0.,  1., -1.]])"
      ]
     },
     "execution_count": 15,
     "metadata": {},
     "output_type": "execute_result"
    }
   ],
   "source": [
    "def scale(X):\n",
    "    X = X - X.mean(axis=0)\n",
    "    st_d = X.std(axis=0)\n",
    "    st_d[st_d == 0] = 1\n",
    "    X /= st_d\n",
    "    return X\n",
    "\n",
    "scale(np.random.randint(10, size=(2, 5)))"
   ]
  },
  {
   "cell_type": "markdown",
   "metadata": {},
   "source": [
    "**4. (0.2 балла)** Реализуйте функцию, которая для заданной матрицы находит:\n",
    " - определитель\n",
    " - след\n",
    " - наименьший и наибольший элементы\n",
    " - норму Фробениуса\n",
    " - собственные числа\n",
    " - обратную матрицу\n",
    "\n",
    "Для тестирования сгенерируйте матрицу с элементами из нормального распределения $\\mathcal{N}$(10,1)"
   ]
  },
  {
   "cell_type": "code",
   "execution_count": 30,
   "metadata": {},
   "outputs": [
    {
     "name": "stdout",
     "output_type": "stream",
     "text": [
      "Определитель: -12.122013137218701\n",
      "След: 29.108947217489977\n",
      "Наименьший элемент: 8.932693142885823\n",
      "Наибольший элемент: 11.294450676334613\n",
      "Норма Фробениуса: 30.136278366494746\n",
      "Собственные числа: [30.03287112 -1.24747687  0.32355297]\n",
      "Обратная матрица: [[-0.29486173 -0.04861903  0.36584584]\n",
      " [-1.9263833   2.35810705 -0.61550721]\n",
      " [ 2.1841242  -2.18994219  0.25911747]]\n"
     ]
    }
   ],
   "source": [
    "def get_stats(X):\n",
    "    print('Определитель:', np.linalg.det(X))\n",
    "    print('След:', np.trace(X))\n",
    "    print('Наименьший элемент:', X.min())\n",
    "    print('Наибольший элемент:', X.max())\n",
    "    print('Норма Фробениуса:', np.linalg.norm(X))\n",
    "    print('Собственные числа:', np.linalg.eigvals(X))\n",
    "    print('Обратная матрица:', np.linalg.inv(X))\n",
    "    \n",
    "get_stats(np.random.normal(10, 1, size=(3, 3)))"
   ]
  },
  {
   "cell_type": "markdown",
   "metadata": {},
   "source": [
    "**5. (0.2 балла)** Повторите 100 раз следующий эксперимент: сгенерируйте две матрицы размера 10×10 из стандартного нормального распределения, перемножьте их (как матрицы) и найдите максимальный элемент. Какое среднее значение по экспериментам у максимальных элементов? 95-процентная квантиль?"
   ]
  },
  {
   "cell_type": "code",
   "execution_count": 32,
   "metadata": {},
   "outputs": [
    {
     "name": "stdout",
     "output_type": "stream",
     "text": [
      "Среднее значение: 8.06\n",
      "95-процентная квантиль: 11.0\n"
     ]
    }
   ],
   "source": [
    "maximum = np.array([0] * 100)\n",
    "for exp_num in range(100):\n",
    "    maximum[exp_num] = np.dot(np.random.standard_normal((10, 10)), np.random.standard_normal((10, 10))).max()\n",
    "print('Среднее значение:', maximum.mean())\n",
    "print('95-процентная квантиль:', np.quantile(maximum, 0.95))"
   ]
  },
  {
   "cell_type": "markdown",
   "metadata": {},
   "source": [
    "### Pandas\n",
    "\n",
    "![](https://metrouk2.files.wordpress.com/2015/10/panda.jpg)\n",
    "\n",
    "#### Ответьте на вопросы о данных по авиарейсам в США за январь-апрель 2008 года.\n",
    "\n",
    "[Данные](https://www.dropbox.com/s/dvfitn93obn0rql/2008.csv?dl=0) и их [описание](http://stat-computing.org/dataexpo/2009/the-data.html)"
   ]
  },
  {
   "cell_type": "markdown",
   "metadata": {},
   "source": [
    "Airline on-time performance\n",
    "\n",
    "Have you ever been stuck in an airport because your flight was delayed or cancelled and wondered if you could have predicted it if you'd had more data? This is your chance to find out.\n",
    "\n",
    "The data\n",
    "The data set is available for download here.\n",
    "The data consists of flight arrival and departure details for all commercial flights within the USA, from October 1987 to April 2008. This is a large dataset: there are nearly 120 million records in total, and takes up 1.6 gigabytes of space compressed and 12 gigabytes when uncompressed.\n",
    "\n",
    "Understanding and preparing the data\n",
    "In order to answer above questions, we are going to analyze the provided dataset, containing up to 1936758 ### different internal flights in the US for 2008 and their causes for delay, diversion and cancellation\n",
    "\n",
    "The data comes from the U.S. Department of Transportation’s (DOT) Bureau of Transportation Statistics (BTS). Meta data explanations\n",
    "\n",
    "This dataset is composed by the following variables:\n",
    "\n",
    "**Year** 2008 **Month** 1-12 **DayofMonth** 1-31 **DayOfWeek** 1 (Monday) - 7 (Sunday)  \n",
    "**DepTime** actual departure time (local, hhmm)  \n",
    "**CRSDepTime** scheduled departure time (local, hhmm)  \n",
    "**ArrTime** actual arrival time (local, hhmm)  \n",
    "**CRSArrTime** scheduled arrival time (local, hhmm)  \n",
    "**UniqueCarrier** unique carrier code  \n",
    "**FlightNum** flight number  \n",
    "**TailNum** plane tail number: aircraft registration, unique aircraft identifier  \n",
    "**ActualElapsedTime** in minutes  \n",
    "**CRSElapsedTime** in minutes  \n",
    "**AirTime** in minutes  \n",
    "**ArrDelay** arrival delay, in minutes: A flight is counted as “on time” if it operated less than 15 minutes later the scheduled time shown in the carriers’ Computerized Reservations Systems (CRS).  \n",
    "**DepDelay** departure delay, in minutes  \n",
    "**Origin** origin IATA airport code  \n",
    "**Dest** destination IATA airport code  \n",
    "**Distance** in miles  \n",
    "**TaxiIn** taxi in time, in minutes  \n",
    "**TaxiOut** taxi out time in minutes  \n",
    "**Cancelled** *was the flight cancelled  \n",
    "**CancellationCode** reason for cancellation (A = carrier, B = weather, C = NAS, D = security)  \n",
    "**Diverted** 1 = yes, 0 = no  \n",
    "**CarrierDelay** in minutes: Carrier delay is within the control of the air carrier. Examples of occurrences that may determine carrier delay are: aircraft cleaning, aircraft damage, awaiting the arrival of connecting passengers or crew, baggage, bird strike, cargo loading, catering, computer, outage-carrier equipment, crew legality (pilot or attendant rest), damage by hazardous goods, engineering inspection, fueling, handling disabled passengers, late crew, lavatory servicing, maintenance, oversales, potable water servicing, removal of unruly passenger, slow boarding or seating, stowing carry-on baggage, weight and balance delays.  \n",
    "**WeatherDelay** in minutes: Weather delay is caused by extreme or hazardous weather conditions that are forecasted or manifest themselves on point of departure, enroute, or on point of arrival.  \n",
    "**NASDelay** in minutes: Delay that is within the control of the National Airspace System (NAS) may include: non-extreme weather conditions, airport operations, heavy traffic volume, air traffic control, etc.  \n",
    "**SecurityDelay** in minutes: Security delay is caused by evacuation of a terminal or concourse, re-boarding of aircraft because of security breach, inoperative screening equipment and/or long lines in excess of 29 minutes at screening areas.  \n",
    "**LateAircraftDelay** in minutes: Arrival delay at an airport due to the late arrival of the same aircraft at a previous airport. The ripple effect of an earlier delay at downstream airports is referred to as delay propagation."
   ]
  },
  {
   "cell_type": "code",
   "execution_count": 2,
   "metadata": {},
   "outputs": [],
   "source": [
    "import pandas as pd\n",
    "%matplotlib inline"
   ]
  },
  {
   "cell_type": "markdown",
   "metadata": {},
   "source": [
    "**6. (0.3 балла)** Какая из причин отмены рейса (`CancellationCode`) была самой частой? (расшифровки кодов можно найти в описании данных)"
   ]
  },
  {
   "cell_type": "code",
   "execution_count": 3,
   "metadata": {},
   "outputs": [
    {
     "data": {
      "text/plain": [
       "'Carrier'"
      ]
     },
     "execution_count": 3,
     "metadata": {},
     "output_type": "execute_result"
    }
   ],
   "source": [
    "data = pd.read_csv('2008.csv')\n",
    "d = {'A': 'Carrier', 'B': 'Weather', 'C': 'NAS', 'D': 'Security'}\n",
    "d.get(data['CancellationCode'].value_counts().idxmax())"
   ]
  },
  {
   "cell_type": "markdown",
   "metadata": {},
   "source": [
    "**7. (0.3 балла)** Найдите среднее, минимальное и максимальное расстояние, пройденное самолетом."
   ]
  },
  {
   "cell_type": "code",
   "execution_count": 4,
   "metadata": {},
   "outputs": [
    {
     "name": "stdout",
     "output_type": "stream",
     "text": [
      "Среднее: 724.5082571428571\n",
      "Минимальное: 31\n",
      "Максимальное: 4962\n"
     ]
    }
   ],
   "source": [
    "print('Среднее:', data['Distance'].mean())\n",
    "print('Минимальное:', data['Distance'].min())\n",
    "print('Максимальное:', data['Distance'].max())"
   ]
  },
  {
   "cell_type": "markdown",
   "metadata": {},
   "source": [
    "**8. (0.3 балла)** Не выглядит ли подозрительным минимальное пройденное расстояние? В какие дни и на каких рейсах оно было? Какое расстояние было пройдено этими же рейсами в другие дни?"
   ]
  },
  {
   "cell_type": "code",
   "execution_count": 5,
   "metadata": {},
   "outputs": [
    {
     "data": {
      "text/html": [
       "<div>\n",
       "<style scoped>\n",
       "    .dataframe tbody tr th:only-of-type {\n",
       "        vertical-align: middle;\n",
       "    }\n",
       "\n",
       "    .dataframe tbody tr th {\n",
       "        vertical-align: top;\n",
       "    }\n",
       "\n",
       "    .dataframe thead th {\n",
       "        text-align: right;\n",
       "    }\n",
       "</style>\n",
       "<table border=\"1\" class=\"dataframe\">\n",
       "  <thead>\n",
       "    <tr style=\"text-align: right;\">\n",
       "      <th></th>\n",
       "      <th>Year</th>\n",
       "      <th>Month</th>\n",
       "      <th>DayofMonth</th>\n",
       "      <th>FlightNum</th>\n",
       "    </tr>\n",
       "  </thead>\n",
       "  <tbody>\n",
       "    <tr>\n",
       "      <th>1116</th>\n",
       "      <td>2008</td>\n",
       "      <td>12</td>\n",
       "      <td>30</td>\n",
       "      <td>65</td>\n",
       "    </tr>\n",
       "    <tr>\n",
       "      <th>6958</th>\n",
       "      <td>2008</td>\n",
       "      <td>12</td>\n",
       "      <td>26</td>\n",
       "      <td>65</td>\n",
       "    </tr>\n",
       "    <tr>\n",
       "      <th>17349</th>\n",
       "      <td>2008</td>\n",
       "      <td>8</td>\n",
       "      <td>18</td>\n",
       "      <td>64</td>\n",
       "    </tr>\n",
       "    <tr>\n",
       "      <th>27534</th>\n",
       "      <td>2008</td>\n",
       "      <td>3</td>\n",
       "      <td>11</td>\n",
       "      <td>64</td>\n",
       "    </tr>\n",
       "    <tr>\n",
       "      <th>46082</th>\n",
       "      <td>2008</td>\n",
       "      <td>8</td>\n",
       "      <td>9</td>\n",
       "      <td>65</td>\n",
       "    </tr>\n",
       "    <tr>\n",
       "      <th>48112</th>\n",
       "      <td>2008</td>\n",
       "      <td>2</td>\n",
       "      <td>28</td>\n",
       "      <td>64</td>\n",
       "    </tr>\n",
       "  </tbody>\n",
       "</table>\n",
       "</div>"
      ],
      "text/plain": [
       "       Year  Month  DayofMonth  FlightNum\n",
       "1116   2008     12          30         65\n",
       "6958   2008     12          26         65\n",
       "17349  2008      8          18         64\n",
       "27534  2008      3          11         64\n",
       "46082  2008      8           9         65\n",
       "48112  2008      2          28         64"
      ]
     },
     "execution_count": 5,
     "metadata": {},
     "output_type": "execute_result"
    }
   ],
   "source": [
    "data.loc[data['Distance'] == 31][['Year', 'Month', 'DayofMonth', 'FlightNum']]"
   ]
  },
  {
   "cell_type": "code",
   "execution_count": 6,
   "metadata": {},
   "outputs": [
    {
     "data": {
      "text/html": [
       "<div>\n",
       "<style scoped>\n",
       "    .dataframe tbody tr th:only-of-type {\n",
       "        vertical-align: middle;\n",
       "    }\n",
       "\n",
       "    .dataframe tbody tr th {\n",
       "        vertical-align: top;\n",
       "    }\n",
       "\n",
       "    .dataframe thead th {\n",
       "        text-align: right;\n",
       "    }\n",
       "</style>\n",
       "<table border=\"1\" class=\"dataframe\">\n",
       "  <thead>\n",
       "    <tr style=\"text-align: right;\">\n",
       "      <th></th>\n",
       "      <th>Distance</th>\n",
       "    </tr>\n",
       "  </thead>\n",
       "  <tbody>\n",
       "    <tr>\n",
       "      <th>501</th>\n",
       "      <td>533</td>\n",
       "    </tr>\n",
       "    <tr>\n",
       "      <th>1116</th>\n",
       "      <td>31</td>\n",
       "    </tr>\n",
       "    <tr>\n",
       "      <th>1389</th>\n",
       "      <td>680</td>\n",
       "    </tr>\n",
       "    <tr>\n",
       "      <th>1517</th>\n",
       "      <td>680</td>\n",
       "    </tr>\n",
       "    <tr>\n",
       "      <th>2619</th>\n",
       "      <td>2381</td>\n",
       "    </tr>\n",
       "    <tr>\n",
       "      <th>...</th>\n",
       "      <td>...</td>\n",
       "    </tr>\n",
       "    <tr>\n",
       "      <th>66529</th>\n",
       "      <td>82</td>\n",
       "    </tr>\n",
       "    <tr>\n",
       "      <th>67172</th>\n",
       "      <td>533</td>\n",
       "    </tr>\n",
       "    <tr>\n",
       "      <th>68264</th>\n",
       "      <td>386</td>\n",
       "    </tr>\n",
       "    <tr>\n",
       "      <th>68338</th>\n",
       "      <td>2454</td>\n",
       "    </tr>\n",
       "    <tr>\n",
       "      <th>69305</th>\n",
       "      <td>1005</td>\n",
       "    </tr>\n",
       "  </tbody>\n",
       "</table>\n",
       "<p>78 rows × 1 columns</p>\n",
       "</div>"
      ],
      "text/plain": [
       "       Distance\n",
       "501         533\n",
       "1116         31\n",
       "1389        680\n",
       "1517        680\n",
       "2619       2381\n",
       "...         ...\n",
       "66529        82\n",
       "67172       533\n",
       "68264       386\n",
       "68338      2454\n",
       "69305      1005\n",
       "\n",
       "[78 rows x 1 columns]"
      ]
     },
     "execution_count": 6,
     "metadata": {},
     "output_type": "execute_result"
    }
   ],
   "source": [
    "data.loc[(data['FlightNum'] == 64) | (data['FlightNum'] == 65)][['Distance']]"
   ]
  },
  {
   "cell_type": "markdown",
   "metadata": {},
   "source": [
    "**9. (0.3 балла)** Из какого аэропорта было произведено больше всего вылетов? В каком городе он находится?"
   ]
  },
  {
   "cell_type": "code",
   "execution_count": 7,
   "metadata": {},
   "outputs": [
    {
     "data": {
      "text/plain": [
       "'ATL'"
      ]
     },
     "execution_count": 7,
     "metadata": {},
     "output_type": "execute_result"
    }
   ],
   "source": [
    "data['Origin'].value_counts().idxmax()"
   ]
  },
  {
   "cell_type": "markdown",
   "metadata": {},
   "source": [
    "**10. (0.3 балла)** Найдите для каждого аэропорта среднее время полета (`AirTime`) по всем вылетевшим из него рейсам. Какой аэропорт имеет наибольшее значение этого показателя?"
   ]
  },
  {
   "cell_type": "code",
   "execution_count": 8,
   "metadata": {},
   "outputs": [
    {
     "data": {
      "text/html": [
       "<div>\n",
       "<style scoped>\n",
       "    .dataframe tbody tr th:only-of-type {\n",
       "        vertical-align: middle;\n",
       "    }\n",
       "\n",
       "    .dataframe tbody tr th {\n",
       "        vertical-align: top;\n",
       "    }\n",
       "\n",
       "    .dataframe thead th {\n",
       "        text-align: right;\n",
       "    }\n",
       "</style>\n",
       "<table border=\"1\" class=\"dataframe\">\n",
       "  <thead>\n",
       "    <tr style=\"text-align: right;\">\n",
       "      <th></th>\n",
       "      <th>AirTime</th>\n",
       "    </tr>\n",
       "    <tr>\n",
       "      <th>Origin</th>\n",
       "      <th></th>\n",
       "    </tr>\n",
       "  </thead>\n",
       "  <tbody>\n",
       "    <tr>\n",
       "      <th>ABE</th>\n",
       "      <td>88.266667</td>\n",
       "    </tr>\n",
       "    <tr>\n",
       "      <th>ABI</th>\n",
       "      <td>36.400000</td>\n",
       "    </tr>\n",
       "    <tr>\n",
       "      <th>ABQ</th>\n",
       "      <td>93.454321</td>\n",
       "    </tr>\n",
       "    <tr>\n",
       "      <th>ABY</th>\n",
       "      <td>35.714286</td>\n",
       "    </tr>\n",
       "    <tr>\n",
       "      <th>ACK</th>\n",
       "      <td>50.800000</td>\n",
       "    </tr>\n",
       "    <tr>\n",
       "      <th>...</th>\n",
       "      <td>...</td>\n",
       "    </tr>\n",
       "    <tr>\n",
       "      <th>WRG</th>\n",
       "      <td>18.000000</td>\n",
       "    </tr>\n",
       "    <tr>\n",
       "      <th>XNA</th>\n",
       "      <td>85.945736</td>\n",
       "    </tr>\n",
       "    <tr>\n",
       "      <th>YAK</th>\n",
       "      <td>35.900000</td>\n",
       "    </tr>\n",
       "    <tr>\n",
       "      <th>YKM</th>\n",
       "      <td>79.000000</td>\n",
       "    </tr>\n",
       "    <tr>\n",
       "      <th>YUM</th>\n",
       "      <td>47.470588</td>\n",
       "    </tr>\n",
       "  </tbody>\n",
       "</table>\n",
       "<p>297 rows × 1 columns</p>\n",
       "</div>"
      ],
      "text/plain": [
       "          AirTime\n",
       "Origin           \n",
       "ABE     88.266667\n",
       "ABI     36.400000\n",
       "ABQ     93.454321\n",
       "ABY     35.714286\n",
       "ACK     50.800000\n",
       "...           ...\n",
       "WRG     18.000000\n",
       "XNA     85.945736\n",
       "YAK     35.900000\n",
       "YKM     79.000000\n",
       "YUM     47.470588\n",
       "\n",
       "[297 rows x 1 columns]"
      ]
     },
     "execution_count": 8,
     "metadata": {},
     "output_type": "execute_result"
    }
   ],
   "source": [
    "data[['Origin', 'AirTime']].groupby(by='Origin').mean()"
   ]
  },
  {
   "cell_type": "code",
   "execution_count": 7,
   "metadata": {},
   "outputs": [
    {
     "data": {
      "text/plain": [
       "AirTime    SJU\n",
       "dtype: object"
      ]
     },
     "execution_count": 7,
     "metadata": {},
     "output_type": "execute_result"
    }
   ],
   "source": [
    "data[['Origin', 'AirTime']].groupby(by='Origin').mean().idxmax()"
   ]
  },
  {
   "cell_type": "markdown",
   "metadata": {},
   "source": [
    "**11. (0.5 балла)** Найдите аэропорт, у которого наибольшая доля задержанных (`DepDelay > 0`) рейсов. Исключите при этом из рассмотрения аэропорты, из которых было отправлено меньше 1000 рейсов (используйте функцию `filter` после `groupby`)."
   ]
  },
  {
   "cell_type": "code",
   "execution_count": 44,
   "metadata": {},
   "outputs": [
    {
     "data": {
      "text/plain": [
       "'ORD'"
      ]
     },
     "execution_count": 44,
     "metadata": {},
     "output_type": "execute_result"
    }
   ],
   "source": [
    "airports = data.loc[data['DepDelay'] > 0].groupby(by='Origin').filter(lambda x: x['DepDelay'].size >= 1000)\n",
    "(airports['Origin'].value_counts() / data['Origin'].value_counts()[:len(airports['Origin'].value_counts())]).idxmax()"
   ]
  },
  {
   "cell_type": "markdown",
   "metadata": {},
   "source": [
    "## Линейная регрессия\n",
    "\n",
    "В этой части мы разберемся с линейной регрессией, способами её обучения и измерением качества ее прогнозов. \n",
    "\n",
    "Будем рассматривать датасет из предыдущей части задания для предсказания времени задержки отправления рейса в минутах (DepDelay). Отметим, что под задержкой подразумевается не только опоздание рейса относительно планируемого времени вылета, но и отправление до планируемого времени.\n",
    "\n",
    "### Подготовка данных\n",
    "\n",
    "**12. (0.5 балла)** Считайте выборку из файла при помощи функции pd.read_csv и ответьте на следующие вопросы:\n",
    "   - Имеются ли в данных пропущенные значения?\n",
    "   - Сколько всего пропущенных элементов в таблице \"объект-признак\"?\n",
    "   - Сколько объектов имеют хотя бы один пропуск?\n",
    "   - Сколько признаков имеют хотя бы одно пропущенное значение?"
   ]
  },
  {
   "cell_type": "code",
   "execution_count": 22,
   "metadata": {
    "scrolled": true
   },
   "outputs": [
    {
     "name": "stdout",
     "output_type": "stream",
     "text": [
      "1. 355215\n",
      "2. 70000\n",
      "3. 16\n"
     ]
    }
   ],
   "source": [
    "print('1.', data.isna().sum().sum())\n",
    "print('2.', len(np.flatnonzero(data.isna().any(axis=1).to_numpy())))\n",
    "print('3.', len(np.flatnonzero(data.isna().any(axis=0).to_numpy())))"
   ]
  },
  {
   "cell_type": "markdown",
   "metadata": {},
   "source": [
    "Как вы понимаете, также не имеет смысла рассматривать при решении поставленной задачи объекты с пропущенным значением целевой переменной. В связи с этим ответьте на следующие вопросы и выполните соответствующие действия:\n",
    "- Имеются ли пропущенные значения в целевой переменной?\n",
    "- Проанализируйте объекты с пропущенными значениями целевой переменной. Чем вызвано это явление? Что их объединяет? Можно ли в связи с этим, на ваш взгляд, исключить какие-то признаки из рассмотрения? Обоснуйте свою точку зрения.\n",
    "\n",
    "Исключите из выборки объекты **с пропущенным значением целевой переменной и со значением целевой переменной, равным 0**, а также при необходимости исключите признаки в соответствии с вашим ответом на последний вопрос из списка и выделите целевую переменную в отдельный вектор, исключив её из матрицы \"объект-признак\"."
   ]
  },
  {
   "cell_type": "code",
   "execution_count": 4,
   "metadata": {},
   "outputs": [
    {
     "data": {
      "text/html": [
       "<div>\n",
       "<style scoped>\n",
       "    .dataframe tbody tr th:only-of-type {\n",
       "        vertical-align: middle;\n",
       "    }\n",
       "\n",
       "    .dataframe tbody tr th {\n",
       "        vertical-align: top;\n",
       "    }\n",
       "\n",
       "    .dataframe thead th {\n",
       "        text-align: right;\n",
       "    }\n",
       "</style>\n",
       "<table border=\"1\" class=\"dataframe\">\n",
       "  <thead>\n",
       "    <tr style=\"text-align: right;\">\n",
       "      <th></th>\n",
       "      <th>Year</th>\n",
       "      <th>Month</th>\n",
       "      <th>DayofMonth</th>\n",
       "      <th>DayOfWeek</th>\n",
       "      <th>DepTime</th>\n",
       "      <th>CRSDepTime</th>\n",
       "      <th>ArrTime</th>\n",
       "      <th>CRSArrTime</th>\n",
       "      <th>UniqueCarrier</th>\n",
       "      <th>FlightNum</th>\n",
       "      <th>...</th>\n",
       "      <th>TaxiIn</th>\n",
       "      <th>TaxiOut</th>\n",
       "      <th>Cancelled</th>\n",
       "      <th>CancellationCode</th>\n",
       "      <th>Diverted</th>\n",
       "      <th>CarrierDelay</th>\n",
       "      <th>WeatherDelay</th>\n",
       "      <th>NASDelay</th>\n",
       "      <th>SecurityDelay</th>\n",
       "      <th>LateAircraftDelay</th>\n",
       "    </tr>\n",
       "  </thead>\n",
       "  <tbody>\n",
       "    <tr>\n",
       "      <th>11</th>\n",
       "      <td>2008</td>\n",
       "      <td>3</td>\n",
       "      <td>6</td>\n",
       "      <td>4</td>\n",
       "      <td>NaN</td>\n",
       "      <td>1605</td>\n",
       "      <td>NaN</td>\n",
       "      <td>1940</td>\n",
       "      <td>AA</td>\n",
       "      <td>484</td>\n",
       "      <td>...</td>\n",
       "      <td>NaN</td>\n",
       "      <td>NaN</td>\n",
       "      <td>1</td>\n",
       "      <td>B</td>\n",
       "      <td>0</td>\n",
       "      <td>NaN</td>\n",
       "      <td>NaN</td>\n",
       "      <td>NaN</td>\n",
       "      <td>NaN</td>\n",
       "      <td>NaN</td>\n",
       "    </tr>\n",
       "    <tr>\n",
       "      <th>78</th>\n",
       "      <td>2008</td>\n",
       "      <td>1</td>\n",
       "      <td>19</td>\n",
       "      <td>6</td>\n",
       "      <td>NaN</td>\n",
       "      <td>750</td>\n",
       "      <td>NaN</td>\n",
       "      <td>930</td>\n",
       "      <td>EV</td>\n",
       "      <td>4772</td>\n",
       "      <td>...</td>\n",
       "      <td>NaN</td>\n",
       "      <td>NaN</td>\n",
       "      <td>1</td>\n",
       "      <td>B</td>\n",
       "      <td>0</td>\n",
       "      <td>NaN</td>\n",
       "      <td>NaN</td>\n",
       "      <td>NaN</td>\n",
       "      <td>NaN</td>\n",
       "      <td>NaN</td>\n",
       "    </tr>\n",
       "    <tr>\n",
       "      <th>103</th>\n",
       "      <td>2008</td>\n",
       "      <td>7</td>\n",
       "      <td>24</td>\n",
       "      <td>4</td>\n",
       "      <td>NaN</td>\n",
       "      <td>1230</td>\n",
       "      <td>NaN</td>\n",
       "      <td>1355</td>\n",
       "      <td>FL</td>\n",
       "      <td>816</td>\n",
       "      <td>...</td>\n",
       "      <td>NaN</td>\n",
       "      <td>NaN</td>\n",
       "      <td>1</td>\n",
       "      <td>A</td>\n",
       "      <td>0</td>\n",
       "      <td>NaN</td>\n",
       "      <td>NaN</td>\n",
       "      <td>NaN</td>\n",
       "      <td>NaN</td>\n",
       "      <td>NaN</td>\n",
       "    </tr>\n",
       "    <tr>\n",
       "      <th>112</th>\n",
       "      <td>2008</td>\n",
       "      <td>2</td>\n",
       "      <td>4</td>\n",
       "      <td>1</td>\n",
       "      <td>NaN</td>\n",
       "      <td>620</td>\n",
       "      <td>NaN</td>\n",
       "      <td>758</td>\n",
       "      <td>NW</td>\n",
       "      <td>1281</td>\n",
       "      <td>...</td>\n",
       "      <td>NaN</td>\n",
       "      <td>NaN</td>\n",
       "      <td>1</td>\n",
       "      <td>B</td>\n",
       "      <td>0</td>\n",
       "      <td>NaN</td>\n",
       "      <td>NaN</td>\n",
       "      <td>NaN</td>\n",
       "      <td>NaN</td>\n",
       "      <td>NaN</td>\n",
       "    </tr>\n",
       "    <tr>\n",
       "      <th>128</th>\n",
       "      <td>2008</td>\n",
       "      <td>1</td>\n",
       "      <td>21</td>\n",
       "      <td>1</td>\n",
       "      <td>NaN</td>\n",
       "      <td>1838</td>\n",
       "      <td>NaN</td>\n",
       "      <td>2005</td>\n",
       "      <td>UA</td>\n",
       "      <td>1251</td>\n",
       "      <td>...</td>\n",
       "      <td>NaN</td>\n",
       "      <td>NaN</td>\n",
       "      <td>1</td>\n",
       "      <td>A</td>\n",
       "      <td>0</td>\n",
       "      <td>NaN</td>\n",
       "      <td>NaN</td>\n",
       "      <td>NaN</td>\n",
       "      <td>NaN</td>\n",
       "      <td>NaN</td>\n",
       "    </tr>\n",
       "    <tr>\n",
       "      <th>...</th>\n",
       "      <td>...</td>\n",
       "      <td>...</td>\n",
       "      <td>...</td>\n",
       "      <td>...</td>\n",
       "      <td>...</td>\n",
       "      <td>...</td>\n",
       "      <td>...</td>\n",
       "      <td>...</td>\n",
       "      <td>...</td>\n",
       "      <td>...</td>\n",
       "      <td>...</td>\n",
       "      <td>...</td>\n",
       "      <td>...</td>\n",
       "      <td>...</td>\n",
       "      <td>...</td>\n",
       "      <td>...</td>\n",
       "      <td>...</td>\n",
       "      <td>...</td>\n",
       "      <td>...</td>\n",
       "      <td>...</td>\n",
       "      <td>...</td>\n",
       "    </tr>\n",
       "    <tr>\n",
       "      <th>69818</th>\n",
       "      <td>2008</td>\n",
       "      <td>6</td>\n",
       "      <td>9</td>\n",
       "      <td>1</td>\n",
       "      <td>NaN</td>\n",
       "      <td>1645</td>\n",
       "      <td>NaN</td>\n",
       "      <td>1800</td>\n",
       "      <td>MQ</td>\n",
       "      <td>3627</td>\n",
       "      <td>...</td>\n",
       "      <td>NaN</td>\n",
       "      <td>NaN</td>\n",
       "      <td>1</td>\n",
       "      <td>C</td>\n",
       "      <td>0</td>\n",
       "      <td>NaN</td>\n",
       "      <td>NaN</td>\n",
       "      <td>NaN</td>\n",
       "      <td>NaN</td>\n",
       "      <td>NaN</td>\n",
       "    </tr>\n",
       "    <tr>\n",
       "      <th>69836</th>\n",
       "      <td>2008</td>\n",
       "      <td>1</td>\n",
       "      <td>25</td>\n",
       "      <td>5</td>\n",
       "      <td>NaN</td>\n",
       "      <td>938</td>\n",
       "      <td>NaN</td>\n",
       "      <td>1030</td>\n",
       "      <td>MQ</td>\n",
       "      <td>3254</td>\n",
       "      <td>...</td>\n",
       "      <td>NaN</td>\n",
       "      <td>NaN</td>\n",
       "      <td>1</td>\n",
       "      <td>B</td>\n",
       "      <td>0</td>\n",
       "      <td>NaN</td>\n",
       "      <td>NaN</td>\n",
       "      <td>NaN</td>\n",
       "      <td>NaN</td>\n",
       "      <td>NaN</td>\n",
       "    </tr>\n",
       "    <tr>\n",
       "      <th>69884</th>\n",
       "      <td>2008</td>\n",
       "      <td>12</td>\n",
       "      <td>26</td>\n",
       "      <td>5</td>\n",
       "      <td>NaN</td>\n",
       "      <td>1935</td>\n",
       "      <td>NaN</td>\n",
       "      <td>2116</td>\n",
       "      <td>NW</td>\n",
       "      <td>1430</td>\n",
       "      <td>...</td>\n",
       "      <td>NaN</td>\n",
       "      <td>NaN</td>\n",
       "      <td>1</td>\n",
       "      <td>B</td>\n",
       "      <td>0</td>\n",
       "      <td>NaN</td>\n",
       "      <td>NaN</td>\n",
       "      <td>NaN</td>\n",
       "      <td>NaN</td>\n",
       "      <td>NaN</td>\n",
       "    </tr>\n",
       "    <tr>\n",
       "      <th>69918</th>\n",
       "      <td>2008</td>\n",
       "      <td>3</td>\n",
       "      <td>1</td>\n",
       "      <td>6</td>\n",
       "      <td>NaN</td>\n",
       "      <td>600</td>\n",
       "      <td>NaN</td>\n",
       "      <td>742</td>\n",
       "      <td>EV</td>\n",
       "      <td>4715</td>\n",
       "      <td>...</td>\n",
       "      <td>NaN</td>\n",
       "      <td>NaN</td>\n",
       "      <td>1</td>\n",
       "      <td>A</td>\n",
       "      <td>0</td>\n",
       "      <td>NaN</td>\n",
       "      <td>NaN</td>\n",
       "      <td>NaN</td>\n",
       "      <td>NaN</td>\n",
       "      <td>NaN</td>\n",
       "    </tr>\n",
       "    <tr>\n",
       "      <th>69949</th>\n",
       "      <td>2008</td>\n",
       "      <td>1</td>\n",
       "      <td>21</td>\n",
       "      <td>1</td>\n",
       "      <td>NaN</td>\n",
       "      <td>1630</td>\n",
       "      <td>NaN</td>\n",
       "      <td>1729</td>\n",
       "      <td>MQ</td>\n",
       "      <td>4198</td>\n",
       "      <td>...</td>\n",
       "      <td>NaN</td>\n",
       "      <td>NaN</td>\n",
       "      <td>1</td>\n",
       "      <td>C</td>\n",
       "      <td>0</td>\n",
       "      <td>NaN</td>\n",
       "      <td>NaN</td>\n",
       "      <td>NaN</td>\n",
       "      <td>NaN</td>\n",
       "      <td>NaN</td>\n",
       "    </tr>\n",
       "  </tbody>\n",
       "</table>\n",
       "<p>1399 rows × 29 columns</p>\n",
       "</div>"
      ],
      "text/plain": [
       "       Year  Month  DayofMonth  DayOfWeek  DepTime  CRSDepTime  ArrTime  \\\n",
       "11     2008      3           6          4      NaN        1605      NaN   \n",
       "78     2008      1          19          6      NaN         750      NaN   \n",
       "103    2008      7          24          4      NaN        1230      NaN   \n",
       "112    2008      2           4          1      NaN         620      NaN   \n",
       "128    2008      1          21          1      NaN        1838      NaN   \n",
       "...     ...    ...         ...        ...      ...         ...      ...   \n",
       "69818  2008      6           9          1      NaN        1645      NaN   \n",
       "69836  2008      1          25          5      NaN         938      NaN   \n",
       "69884  2008     12          26          5      NaN        1935      NaN   \n",
       "69918  2008      3           1          6      NaN         600      NaN   \n",
       "69949  2008      1          21          1      NaN        1630      NaN   \n",
       "\n",
       "       CRSArrTime UniqueCarrier  FlightNum  ... TaxiIn  TaxiOut  Cancelled  \\\n",
       "11           1940            AA        484  ...    NaN      NaN          1   \n",
       "78            930            EV       4772  ...    NaN      NaN          1   \n",
       "103          1355            FL        816  ...    NaN      NaN          1   \n",
       "112           758            NW       1281  ...    NaN      NaN          1   \n",
       "128          2005            UA       1251  ...    NaN      NaN          1   \n",
       "...           ...           ...        ...  ...    ...      ...        ...   \n",
       "69818        1800            MQ       3627  ...    NaN      NaN          1   \n",
       "69836        1030            MQ       3254  ...    NaN      NaN          1   \n",
       "69884        2116            NW       1430  ...    NaN      NaN          1   \n",
       "69918         742            EV       4715  ...    NaN      NaN          1   \n",
       "69949        1729            MQ       4198  ...    NaN      NaN          1   \n",
       "\n",
       "       CancellationCode  Diverted  CarrierDelay WeatherDelay NASDelay  \\\n",
       "11                    B         0           NaN          NaN      NaN   \n",
       "78                    B         0           NaN          NaN      NaN   \n",
       "103                   A         0           NaN          NaN      NaN   \n",
       "112                   B         0           NaN          NaN      NaN   \n",
       "128                   A         0           NaN          NaN      NaN   \n",
       "...                 ...       ...           ...          ...      ...   \n",
       "69818                 C         0           NaN          NaN      NaN   \n",
       "69836                 B         0           NaN          NaN      NaN   \n",
       "69884                 B         0           NaN          NaN      NaN   \n",
       "69918                 A         0           NaN          NaN      NaN   \n",
       "69949                 C         0           NaN          NaN      NaN   \n",
       "\n",
       "       SecurityDelay  LateAircraftDelay  \n",
       "11               NaN                NaN  \n",
       "78               NaN                NaN  \n",
       "103              NaN                NaN  \n",
       "112              NaN                NaN  \n",
       "128              NaN                NaN  \n",
       "...              ...                ...  \n",
       "69818            NaN                NaN  \n",
       "69836            NaN                NaN  \n",
       "69884            NaN                NaN  \n",
       "69918            NaN                NaN  \n",
       "69949            NaN                NaN  \n",
       "\n",
       "[1399 rows x 29 columns]"
      ]
     },
     "execution_count": 4,
     "metadata": {},
     "output_type": "execute_result"
    }
   ],
   "source": [
    "df = data.loc[data['DepDelay'].isna() == True]\n",
    "df"
   ]
  },
  {
   "cell_type": "code",
   "execution_count": 5,
   "metadata": {},
   "outputs": [],
   "source": [
    "df2 = data.loc[(data['DepDelay'] == 0) | (data['DepDelay'].isna() == True)]\n",
    "data2 = data.drop(df2.index.values)\n",
    "dep_delay = data2['DepDelay']\n",
    "data2 = data2.drop(['DepDelay', 'Cancelled', 'CancellationCode'], axis=1)\n",
    "data2 = data2.reset_index(drop=True)"
   ]
  },
  {
   "cell_type": "markdown",
   "metadata": {},
   "source": [
    "**13. (0.5 балла)** Обратите внимание, что признаки DepTime, CRSDepTime, ArrTime, CRSArrTime приведены в формате hhmm, в связи с чем будет не вполне корректно рассматривать их как вещественные.\n",
    "\n",
    "Преобразуйте каждый признак FeatureName из указанных в пару новых признаков FeatureName\\_Hour, FeatureName\\_Minute, разделив каждое из значений на часы и минуты. Не забудьте при этом исключить исходный признак из выборки. В случае, если значение признака отсутствует, значения двух новых признаков, его заменяющих, также должны отсутствовать. \n",
    "\n",
    "Например, признак DepTime необходимо заменить на пару признаков DepTime_Hour, DepTime_Minute. При этом, например, значение 155 исходного признака будет преобразовано в значения 1 и 55 признаков DepTime_Hour, DepTime_Minute соответственно."
   ]
  },
  {
   "cell_type": "code",
   "execution_count": 6,
   "metadata": {},
   "outputs": [],
   "source": [
    "data2['DepTime_Hour'] = data2['DepTime'].astype('str').str[:-4]\n",
    "data2['DepTime_Minute'] = data2['DepTime'].astype('str').str[-4:-2]\n",
    "data2['CRSDepTime_Hour'] = data2['CRSDepTime'].astype('str').str[:-2]\n",
    "data2['CRSDepTime_Minute'] = data2['CRSDepTime'].astype('str').str[-2:]\n",
    "data2['ArrTime_Hour'] = data2['ArrTime']\n",
    "data2.loc[data2['ArrTime_Hour'].notna(), 'ArrTime_Hour'] = data2.loc[data2['ArrTime'].notna(), 'ArrTime'].astype('str').str[:-4]\n",
    "data2['ArrTime_Minute'] = data2['ArrTime']\n",
    "data2.loc[data2['ArrTime_Minute'].notna(), 'ArrTime_Minute'] = data2.loc[data2['ArrTime'].notna(), 'ArrTime'].astype('str').str[-4:-2]\n",
    "data2['CRSArrTime_Hour'] = data2['CRSArrTime'].astype('str').str[:-2]\n",
    "data2['CRSArrTime_Minute'] = data2['CRSArrTime'].astype('str').str[-2:]\n",
    "data2 = data2.drop(['DepTime', 'CRSDepTime', 'ArrTime', 'CRSArrTime'], axis=1)"
   ]
  },
  {
   "cell_type": "code",
   "execution_count": 7,
   "metadata": {},
   "outputs": [],
   "source": [
    "data2['DepTime_Hour'] = pd.to_numeric(data2['DepTime_Hour'])\n",
    "data2['DepTime_Minute'] = pd.to_numeric(data2['DepTime_Minute'])\n",
    "data2['CRSDepTime_Hour'] = pd.to_numeric(data2['CRSDepTime_Hour'])\n",
    "data2['CRSDepTime_Minute'] = pd.to_numeric(data2['CRSDepTime_Minute'])\n",
    "data2['ArrTime_Hour'] = pd.to_numeric(data2['ArrTime_Hour'], errors='coerce')\n",
    "data2['ArrTime_Minute'] = pd.to_numeric(data2['ArrTime_Minute'], errors='coerce')\n",
    "data2['CRSArrTime_Hour'] = pd.to_numeric(data2['CRSArrTime_Hour'])\n",
    "data2['CRSArrTime_Minute'] = pd.to_numeric(data2['CRSArrTime_Minute'])"
   ]
  },
  {
   "cell_type": "markdown",
   "metadata": {},
   "source": [
    "**14. (0.5 балла)** Некоторые из признаков, отличных от целевой переменной, могут оказывать чересчур значимое влияние на прогноз, поскольку по своему смыслу содержат большую долю информации о значении целевой переменной. Изучите описание датасета и исключите признаки, сильно коррелирующие с ответами. Ваш выбор признаков для исключения из выборки обоснуйте. Кроме того, исключите признаки TailNum и Year."
   ]
  },
  {
   "cell_type": "code",
   "execution_count": 8,
   "metadata": {},
   "outputs": [
    {
     "data": {
      "image/png": "[encoded data removed]",
      "text/plain": [
       "<Figure size 1080x720 with 1 Axes>"
      ]
     },
     "metadata": {
      "needs_background": "light"
     },
     "output_type": "display_data"
    }
   ],
   "source": [
    "import seaborn as sns\n",
    "\n",
    "data2 = data2.drop(['TailNum', 'Year'], axis=1)\n",
    "\n",
    "numeric_data = data2.select_dtypes([np.number])\n",
    "numeric_data_mean = numeric_data.mean()\n",
    "numeric_features = numeric_data.columns\n",
    "\n",
    "data3 = data2.fillna(numeric_data_mean)\n",
    "\n",
    "correlations = {\n",
    "    feature: np.corrcoef(data3[feature], dep_delay)[0][1]\n",
    "    for feature in numeric_features\n",
    "}\n",
    "sorted_correlations = sorted(correlations.items(), key=lambda x: x[1], reverse=True)\n",
    "features_order = [x[0] for x in sorted_correlations]\n",
    "correlations = [x[1] for x in sorted_correlations]\n",
    "\n",
    "plot = sns.barplot(y=features_order, x=correlations)\n",
    "plot.figure.set_size_inches(15, 10)"
   ]
  },
  {
   "cell_type": "code",
   "execution_count": 9,
   "metadata": {},
   "outputs": [],
   "source": [
    "data2 = data2.drop(['ArrDelay'], axis=1)"
   ]
  },
  {
   "cell_type": "markdown",
   "metadata": {},
   "source": [
    "**15. (1 балл)** Приведем данные к виду, пригодному для обучения линейных моделей. Для этого вещественные признаки надо отмасштабировать, а категориальные — привести к числовому виду. Также надо устранить пропуски в данных."
   ]
  },
  {
   "cell_type": "markdown",
   "metadata": {},
   "source": [
    "В первую очередь поймем, зачем необходимо применять масштабирование. Следующие ячейки с кодом построят гистограммы для 3 вещественных признаков выборки."
   ]
  },
  {
   "cell_type": "code",
   "execution_count": 10,
   "metadata": {
    "scrolled": true
   },
   "outputs": [
    {
     "data": {
      "text/plain": [
       "<AxesSubplot:>"
      ]
     },
     "execution_count": 10,
     "metadata": {},
     "output_type": "execute_result"
    },
    {
     "data": {
      "image/png": "[encoded data removed]",
      "text/plain": [
       "<Figure size 432x288 with 1 Axes>"
      ]
     },
     "metadata": {
      "needs_background": "light"
     },
     "output_type": "display_data"
    }
   ],
   "source": [
    "data2['DepTime_Hour'].hist(bins=20)"
   ]
  },
  {
   "cell_type": "code",
   "execution_count": 11,
   "metadata": {},
   "outputs": [
    {
     "data": {
      "text/plain": [
       "<AxesSubplot:>"
      ]
     },
     "execution_count": 11,
     "metadata": {},
     "output_type": "execute_result"
    },
    {
     "data": {
      "image/png": "[encoded data removed]",
      "text/plain": [
       "<Figure size 432x288 with 1 Axes>"
      ]
     },
     "metadata": {
      "needs_background": "light"
     },
     "output_type": "display_data"
    }
   ],
   "source": [
    "data2['TaxiIn'].hist(bins=20)"
   ]
  },
  {
   "cell_type": "code",
   "execution_count": 12,
   "metadata": {},
   "outputs": [
    {
     "data": {
      "text/plain": [
       "<AxesSubplot:>"
      ]
     },
     "execution_count": 12,
     "metadata": {},
     "output_type": "execute_result"
    },
    {
     "data": {
      "image/png": "[encoded data removed]",
      "text/plain": [
       "<Figure size 432x288 with 1 Axes>"
      ]
     },
     "metadata": {
      "needs_background": "light"
     },
     "output_type": "display_data"
    }
   ],
   "source": [
    "data2['FlightNum'].hist(bins=20)"
   ]
  },
  {
   "cell_type": "markdown",
   "metadata": {},
   "source": [
    "Какую проблему вы наблюдаете на этих графиках? Как масштабирование поможет её исправить?"
   ]
  },
  {
   "cell_type": "markdown",
   "metadata": {},
   "source": [
    "Масштабирование решит проблему разных диапазонов у признаков."
   ]
  },
  {
   "cell_type": "markdown",
   "metadata": {},
   "source": [
    "Некоторые из признаков в нашем датасете являются категориальными. Типичным подходом к работе с ними является бинарное, или [one-hot-кодирование](https://en.wikipedia.org/wiki/One-hot).\n",
    "\n",
    "Реализуйте функцию transform_data, которая принимает на вход DataFrame с признаками и выполняет следующие шаги:\n",
    "1. Замена пропущенных значений на нули для вещественных признаков и на строки 'nan' для категориальных.\n",
    "2. Масштабирование вещественных признаков с помощью [StandardScaler](http://scikit-learn.org/stable/modules/generated/sklearn.preprocessing.StandardScaler.html).\n",
    "3. One-hot-кодирование категориальных признаков с помощью [DictVectorizer](http://scikit-learn.org/stable/modules/generated/sklearn.feature_extraction.DictVectorizer.html) или функции [pd.get_dummies](http://pandas.pydata.org/pandas-docs/stable/generated/pandas.get_dummies.html).\n",
    "\n",
    "Метод должен возвращать преобразованный DataFrame, который должна состоять из масштабированных вещественных признаков и закодированных категориальных (исходные признаки должны быть исключены из выборки)."
   ]
  },
  {
   "cell_type": "code",
   "execution_count": 10,
   "metadata": {},
   "outputs": [],
   "source": [
    "from sklearn.preprocessing import StandardScaler\n",
    "\n",
    "def transform_data(data):\n",
    "    numeric = list(data.dtypes[(data.dtypes == 'int64') | (data.dtypes == 'float64')].index)\n",
    "    categorical = list(data.dtypes[data.dtypes == 'object'].index)\n",
    "    data[numeric] = data[numeric].fillna(0)\n",
    "    data[categorical] = data[categorical].fillna('nan')\n",
    "    \n",
    "    scaler = StandardScaler()\n",
    "    data[numeric] = scaler.fit_transform(data[numeric])\n",
    "    \n",
    "    new_categorical = pd.get_dummies(data[categorical])\n",
    "    data = data.join(new_categorical).drop(categorical, axis=1)\n",
    "    return data"
   ]
  },
  {
   "cell_type": "markdown",
   "metadata": {},
   "source": [
    "Примените функцию transform_data к данным. Сколько признаков получилось после преобразования?"
   ]
  },
  {
   "cell_type": "code",
   "execution_count": 11,
   "metadata": {},
   "outputs": [
    {
     "data": {
      "text/plain": [
       "(63404, 638)"
      ]
     },
     "execution_count": 11,
     "metadata": {},
     "output_type": "execute_result"
    }
   ],
   "source": [
    "new_data = transform_data(data2)\n",
    "new_data.shape"
   ]
  },
  {
   "cell_type": "markdown",
   "metadata": {},
   "source": [
    "**16. (0.5 балла)** Разбейте выборку и вектор целевой переменной на обучение и контроль в отношении 70/30 (для этого можно использовать, например, функцию [train_test_split](http://scikit-learn.org/stable/modules/generated/sklearn.cross_validation.train_test_split.html)). "
   ]
  },
  {
   "cell_type": "code",
   "execution_count": 12,
   "metadata": {},
   "outputs": [],
   "source": [
    "from sklearn.model_selection import train_test_split\n",
    "\n",
    "X_train, X_test, y_train, y_test = train_test_split(new_data, dep_delay, test_size=0.3, random_state=42)"
   ]
  },
  {
   "cell_type": "markdown",
   "metadata": {},
   "source": [
    "### Scikit-learn\n",
    "\n",
    "<img src = \"https://pp.vk.me/c4534/u35727827/93547647/x_d31c4463.jpg\">\n",
    "Теперь, когда мы привели данные к пригодному виду, попробуем решить задачу при помощи метода наименьших квадратов. Напомним, что данный метод заключается в оптимизации функционала $MSE$:\n",
    "\n",
    "$$MSE(X, y) = \\frac{1}{l} \\sum_{i=1}^l (<w, x_i> - y_i)^2 \\to \\min_{w},$$\n",
    "\n",
    "где $\\{ (x_i, y_i ) \\}_{i=1}^l$ — обучающая выборка, состоящая из $l$ пар объект-ответ.\n",
    "\n",
    "Заметим, что решение данной задачи уже реализовано в модуле sklearn в виде класса [LinearRegression](http://scikit-learn.org/stable/modules/generated/sklearn.linear_model.LinearRegression.html#sklearn.linear_model.LinearRegression).\n",
    "\n",
    "**17. (0.5 балла)** Обучите линейную регрессию на 1000 объектах из обучающей выборки и выведите значения $MSE$ и $R^2$ на этой подвыборке и контрольной выборке (итого 4 различных числа). Проинтерпретируйте полученный результат — насколько качественные прогнозы строит полученная модель? Какие проблемы наблюдаются в модели?\n",
    "\n",
    "**Подсказка**: изучите значения полученных коэффициентов $w$, сохраненных в атрибуте coef_ объекта LinearRegression."
   ]
  },
  {
   "cell_type": "code",
   "execution_count": 16,
   "metadata": {},
   "outputs": [
    {
     "name": "stdout",
     "output_type": "stream",
     "text": [
      "Train MSE: 40.57879621887207\n",
      "Test MSE: 9.270830922154331e+23\n",
      "Train R^2: 0.9617114947054158\n",
      "Test R^2: -6.930586845791224e+20\n"
     ]
    }
   ],
   "source": [
    "from sklearn.linear_model import LinearRegression\n",
    "from sklearn.metrics import mean_squared_error, r2_score\n",
    "\n",
    "reg = LinearRegression().fit(X_train[:1000], y_train[:1000])\n",
    "y_train_pred = reg.predict(X_train[:1000])\n",
    "y_pred = reg.predict(X_test)\n",
    "\n",
    "print('Train MSE:', mean_squared_error(y_train[:1000], y_train_pred))\n",
    "print('Test MSE:', mean_squared_error(y_test, y_pred))\n",
    "print('Train R^2:', r2_score(y_train[:1000], y_train_pred))\n",
    "print('Test R^2:', r2_score(y_test, y_pred))"
   ]
  },
  {
   "cell_type": "code",
   "execution_count": 25,
   "metadata": {},
   "outputs": [
    {
     "data": {
      "text/plain": [
       "array([-6.78399723e-01, -3.93935719e-01,  1.75977598e-02, -8.56752838e-01,\n",
       "       -1.62833325e+02,  3.70604256e+01,  1.18295800e+02,  1.80152719e+00,\n",
       "        7.96261745e+00,  1.85632638e+01, -6.46700207e+00,  2.17923585e+01,\n",
       "        9.31578365e+00,  1.48203155e+01,  9.03520590e+00,  2.17988923e+01,\n",
       "        1.36594879e+00,  9.57185262e-02,  2.84840542e-01,  1.08228936e-01,\n",
       "        6.18876451e-01, -7.12496735e-02, -1.86457109e+00,  3.96703066e-02,\n",
       "        3.74123453e+12,  3.74123453e+12, -1.76357077e+13,  3.74123453e+12,\n",
       "        3.74123453e+12,  3.74123453e+12,  3.74123453e+12,  3.74123453e+12,\n",
       "        3.74123453e+12,  3.74123453e+12,  3.74123453e+12,  3.74123453e+12,\n",
       "        3.74123453e+12,  3.74123453e+12,  3.74123453e+12,  3.74123453e+12,\n",
       "        3.74123453e+12,  3.74123453e+12,  3.74123453e+12,  3.74123453e+12,\n",
       "       -4.27703121e+12,  9.97007784e+11,  9.97007784e+11,  9.97007784e+11,\n",
       "        4.48451112e+12,  5.36374095e+12,  9.97007784e+11, -1.49725372e+12,\n",
       "       -4.15477821e+12, -2.13697245e+12,  5.06906975e+12, -3.30136834e+12,\n",
       "        7.41168264e+12,  9.97007784e+11, -4.80011656e+12, -4.40472074e+12,\n",
       "        9.97007784e+11,  9.97007784e+11,  9.97007784e+11,  9.97007784e+11,\n",
       "        9.97007784e+11, -7.85061690e+12,  5.72996545e+12,  2.08217886e+12,\n",
       "        9.97007784e+11, -3.42451452e+12,  9.97007784e+11, -9.61681236e+10,\n",
       "       -1.58111072e+12,  9.97007784e+11,  1.62233303e+12,  1.58536795e+12,\n",
       "       -4.18309365e+11, -1.72617321e+12,  9.97007784e+11,  9.97007784e+11,\n",
       "        9.97007784e+11, -2.05556617e+10,  9.97007784e+11,  6.38215087e+11,\n",
       "       -4.93260939e+11, -8.75642240e+11, -6.71061924e+11, -5.38436355e+11,\n",
       "        9.97007784e+11,  9.97007784e+11,  9.97007784e+11,  9.97007784e+11,\n",
       "        9.97007784e+11,  9.97007784e+11,  3.21706385e+11,  3.28416029e+11,\n",
       "        8.05260739e+11,  9.97007784e+11, -2.41568404e+11,  9.97007784e+11,\n",
       "        2.93324783e+11,  9.97007784e+11,  9.97007784e+11,  9.97007784e+11,\n",
       "        9.97007784e+11,  9.97007784e+11,  9.97007784e+11, -2.18067475e+10,\n",
       "        1.31464198e+11,  8.38078075e+11,  9.97007784e+11, -2.79820424e+10,\n",
       "        9.97007784e+11,  2.00979306e+11,  1.85173330e+11,  9.97007784e+11,\n",
       "       -2.44375239e+11, -2.33764688e+11,  9.97007784e+11,  9.97007784e+11,\n",
       "       -3.92036567e+10,  9.97007784e+11,  9.97007784e+11,  9.97007784e+11,\n",
       "        9.97007784e+11,  9.97007784e+11,  4.55325832e+11,  9.97007784e+11,\n",
       "        9.97007784e+11,  3.92931713e+11, -1.28847859e+11,  4.00160604e+11,\n",
       "        9.97007784e+11, -1.53750622e+11,  9.97007784e+11,  1.03471041e+12,\n",
       "       -8.86019131e+11,  9.97007784e+11, -5.08917009e+11,  5.64653501e+11,\n",
       "       -6.73581515e+11,  9.97007784e+11,  9.97007784e+11, -7.23304676e+10,\n",
       "       -8.87347847e+11,  9.97007784e+11,  2.84671012e+11,  9.97007784e+11,\n",
       "       -1.20010059e+11, -5.18252663e+11,  9.97007784e+11,  2.59245880e+11,\n",
       "        9.97007784e+11,  9.97007784e+11,  4.31991457e+11,  9.97007784e+11,\n",
       "       -2.85272208e+11, -8.84638391e+10,  9.97007784e+11,  9.97007784e+11,\n",
       "        9.97007784e+11,  9.97007784e+11,  9.97007784e+11, -1.81068008e+11,\n",
       "       -1.22038352e+11, -1.11049236e+11,  1.61431856e+11,  4.54338336e+11,\n",
       "        1.24946425e+11, -1.06508336e+11,  9.97007784e+11,  9.97007784e+11,\n",
       "        9.97007784e+11, -2.14565532e+11,  9.97007784e+11,  2.59721981e+10,\n",
       "        9.97007784e+11,  9.97007784e+11,  9.97007784e+11,  9.97007784e+11,\n",
       "       -1.48416372e+11,  9.97007784e+11,  1.32364291e+11, -5.30253103e+11,\n",
       "        9.97007784e+11,  7.43648678e+11,  8.71798277e+10,  5.07523774e+10,\n",
       "        3.30484535e+11,  9.97007784e+11,  9.97007784e+11,  9.97007784e+11,\n",
       "        9.97007784e+11,  9.97007784e+11, -2.05074227e+11,  6.62901325e+11,\n",
       "        9.97007784e+11,  8.79914044e+10,  9.97007784e+11,  9.97007784e+11,\n",
       "        1.46974238e+11,  9.97007784e+11, -3.12079368e+11,  9.97007784e+11,\n",
       "        9.97007784e+11,  9.37161888e+10,  9.97007784e+11,  4.41386087e+11,\n",
       "        1.39664091e+11,  9.97007784e+11, -2.24543248e+11, -8.51729483e+11,\n",
       "       -3.71551155e+09, -9.74388130e+11,  9.97007784e+11,  9.97007784e+11,\n",
       "        9.97007784e+11, -6.79644386e+10,  9.97007784e+11, -5.32158233e+09,\n",
       "        9.97007784e+11, -2.97308006e+08,  9.97007784e+11, -8.09378846e+08,\n",
       "        9.97007784e+11,  9.29942629e+07,  9.97007784e+11,  9.97007784e+11,\n",
       "        9.97007784e+11,  1.72975176e+06,  2.18754517e+05,  9.97007784e+11,\n",
       "       -1.76290062e+05,  9.97007784e+11, -6.75287116e+03,  1.69053645e+03,\n",
       "       -3.44152165e+02, -3.56487611e+02,  9.97007784e+11, -8.80398808e+01,\n",
       "        9.97007784e+11,  9.97007784e+11, -1.53677368e+00,  9.97007784e+11,\n",
       "        6.44531250e-02,  9.97007784e+11,  9.97007784e+11,  9.97007784e+11,\n",
       "        9.97007784e+11, -3.90625000e-03,  9.97007784e+11,  9.97007784e+11,\n",
       "        9.97007784e+11, -2.28881836e-05, -1.90734863e-06,  1.90734863e-06,\n",
       "        9.97007784e+11,  9.97007784e+11, -5.96046448e-08,  3.72529030e-09,\n",
       "        9.97007784e+11,  9.97007784e+11,  9.97007784e+11,  5.82076609e-11,\n",
       "        9.97007784e+11,  0.00000000e+00,  7.27595761e-12,  9.97007784e+11,\n",
       "       -2.27373675e-13, -2.84217094e-14,  0.00000000e+00,  9.97007784e+11,\n",
       "        9.97007784e+11,  9.97007784e+11,  9.97007784e+11,  1.06581410e-14,\n",
       "       -1.77635684e-15,  9.97007784e+11, -2.66453526e-15, -3.99680289e-15,\n",
       "        9.97007784e+11,  3.55271368e-15,  9.97007784e+11,  9.97007784e+11,\n",
       "        9.97007784e+11,  9.97007784e+11, -1.11022302e-15,  9.97007784e+11,\n",
       "        9.97007784e+11,  9.97007784e+11,  9.97007784e+11,  9.97007784e+11,\n",
       "        9.97007784e+11,  9.97007784e+11, -2.66453526e-15, -5.10702591e-15,\n",
       "        9.97007784e+11,  9.97007784e+11,  9.97007784e+11,  9.97007784e+11,\n",
       "       -2.10942375e-15,  9.97007784e+11,  4.88498131e-15,  9.97007784e+11,\n",
       "        5.32907052e-15,  9.97007784e+11,  9.97007784e+11,  8.88178420e-15,\n",
       "        9.97007784e+11, -1.06581410e-14,  9.97007784e+11, -4.44089210e-16,\n",
       "        9.97007784e+11,  9.97007784e+11,  9.97007784e+11,  5.32907052e-15,\n",
       "        1.11022302e-15, -4.44089210e-16, -6.66133815e-16,  9.97007784e+11,\n",
       "        9.97007784e+11, -5.32907052e-15,  9.97007784e+11, -5.32907052e-15,\n",
       "        9.97007784e+11,  9.97007784e+11,  9.97007784e+11,  9.97007784e+11,\n",
       "       -7.09473888e-26,  7.75481824e-26,  1.76098998e-25,  4.71592882e-26,\n",
       "        9.97007784e+11,  1.17130067e-26,  9.97007784e+11, -4.52364397e-26,\n",
       "        9.97007784e+11,  1.43921506e+12, -4.03896783e-26,  9.97007784e+11,\n",
       "        1.88142234e+12,  1.88142234e+12,  1.88142234e+12,  2.28181715e-27,\n",
       "       -8.07793567e-27, -1.93870456e-26,  1.88142234e+12, -4.84676140e-27,\n",
       "       -1.61558713e-27,  3.19346610e-27,  1.88142234e+12, -5.65455497e-27,\n",
       "        1.07164289e-27,  1.88142234e+12,  1.88142234e+12,  1.88142234e+12,\n",
       "        9.69352280e-27,  1.88142234e+12,  1.88142234e+12,  1.88142234e+12,\n",
       "        2.01948392e-28,  2.88289218e-27,  1.88142234e+12,  1.88142234e+12,\n",
       "        8.33037116e-28,  1.88142234e+12,  0.00000000e+00,  8.07793567e-28,\n",
       "        1.88142234e+12,  1.61558713e-27,  1.88142234e+12,  0.00000000e+00,\n",
       "        8.58280665e-28,  1.88142234e+12,  1.88142234e+12,  1.88142234e+12,\n",
       "        1.88142234e+12,  0.00000000e+00,  1.88142234e+12,  0.00000000e+00,\n",
       "        1.88142234e+12,  0.00000000e+00,  0.00000000e+00,  0.00000000e+00,\n",
       "        1.88142234e+12,  1.88142234e+12,  1.88142234e+12,  1.88142234e+12,\n",
       "        1.88142234e+12,  1.88142234e+12,  1.88142234e+12,  0.00000000e+00,\n",
       "        1.88142234e+12,  0.00000000e+00,  0.00000000e+00,  0.00000000e+00,\n",
       "        0.00000000e+00,  0.00000000e+00,  1.88142234e+12,  1.88142234e+12,\n",
       "        1.88142234e+12,  1.88142234e+12,  1.88142234e+12,  1.88142234e+12,\n",
       "        1.88142234e+12,  0.00000000e+00,  0.00000000e+00,  1.88142234e+12,\n",
       "        1.88142234e+12,  1.88142234e+12,  0.00000000e+00,  0.00000000e+00,\n",
       "        1.88142234e+12,  0.00000000e+00,  0.00000000e+00,  1.88142234e+12,\n",
       "        1.88142234e+12,  0.00000000e+00,  1.88142234e+12,  1.88142234e+12,\n",
       "        1.88142234e+12,  0.00000000e+00,  0.00000000e+00,  0.00000000e+00,\n",
       "        0.00000000e+00,  1.88142234e+12,  1.88142234e+12,  1.88142234e+12,\n",
       "        0.00000000e+00,  0.00000000e+00,  0.00000000e+00,  0.00000000e+00,\n",
       "        1.88142234e+12,  1.88142234e+12,  0.00000000e+00,  1.88142234e+12,\n",
       "        0.00000000e+00,  1.88142234e+12,  0.00000000e+00,  1.88142234e+12,\n",
       "        0.00000000e+00,  1.88142234e+12,  0.00000000e+00,  1.88142234e+12,\n",
       "        0.00000000e+00,  0.00000000e+00,  1.88142234e+12,  0.00000000e+00,\n",
       "        0.00000000e+00,  0.00000000e+00,  1.88142234e+12,  1.88142234e+12,\n",
       "        0.00000000e+00,  1.88142234e+12,  1.88142234e+12,  0.00000000e+00,\n",
       "        0.00000000e+00,  1.88142234e+12,  1.88142234e+12,  1.88142234e+12,\n",
       "        0.00000000e+00,  0.00000000e+00,  1.88142234e+12,  0.00000000e+00,\n",
       "        1.88142234e+12,  0.00000000e+00,  0.00000000e+00,  1.88142234e+12,\n",
       "        1.88142234e+12,  1.88142234e+12,  1.88142234e+12,  0.00000000e+00,\n",
       "        1.88142234e+12,  0.00000000e+00,  1.88142234e+12,  1.88142234e+12,\n",
       "        1.88142234e+12,  1.88142234e+12,  1.88142234e+12,  1.88142234e+12,\n",
       "        0.00000000e+00,  1.88142234e+12,  1.88142234e+12,  0.00000000e+00,\n",
       "        0.00000000e+00,  0.00000000e+00,  0.00000000e+00,  0.00000000e+00,\n",
       "        1.88142234e+12,  1.88142234e+12,  1.43921506e+12,  1.88142234e+12,\n",
       "        1.88142234e+12,  0.00000000e+00,  1.88142234e+12,  0.00000000e+00,\n",
       "        1.88142234e+12,  1.88142234e+12,  0.00000000e+00,  0.00000000e+00,\n",
       "        1.88142234e+12,  1.88142234e+12,  1.88142234e+12,  1.88142234e+12,\n",
       "        1.88142234e+12,  0.00000000e+00,  1.88142234e+12,  1.88142234e+12,\n",
       "        0.00000000e+00,  0.00000000e+00,  0.00000000e+00,  0.00000000e+00,\n",
       "        1.88142234e+12,  1.88142234e+12,  1.88142234e+12,  0.00000000e+00,\n",
       "        1.88142234e+12,  1.88142234e+12,  1.88142234e+12,  0.00000000e+00,\n",
       "        1.88142234e+12,  1.88142234e+12,  0.00000000e+00,  0.00000000e+00,\n",
       "        1.88142234e+12,  1.88142234e+12,  1.88142234e+12,  0.00000000e+00,\n",
       "        1.88142234e+12,  1.88142234e+12,  1.88142234e+12,  0.00000000e+00,\n",
       "        0.00000000e+00,  1.88142234e+12,  0.00000000e+00,  0.00000000e+00,\n",
       "        1.88142234e+12,  1.88142234e+12,  1.88142234e+12,  1.88142234e+12,\n",
       "        0.00000000e+00,  1.88142234e+12,  0.00000000e+00,  1.88142234e+12,\n",
       "        1.88142234e+12,  1.88142234e+12,  1.88142234e+12,  0.00000000e+00,\n",
       "        1.88142234e+12,  1.88142234e+12,  1.88142234e+12,  0.00000000e+00,\n",
       "        0.00000000e+00,  0.00000000e+00,  1.88142234e+12,  1.88142234e+12,\n",
       "        0.00000000e+00,  1.88142234e+12,  1.88142234e+12,  1.88142234e+12,\n",
       "        0.00000000e+00,  0.00000000e+00,  1.88142234e+12,  0.00000000e+00,\n",
       "        0.00000000e+00,  0.00000000e+00,  0.00000000e+00,  0.00000000e+00,\n",
       "        0.00000000e+00,  1.88142234e+12,  1.88142234e+12,  0.00000000e+00,\n",
       "        1.88142234e+12,  0.00000000e+00,  0.00000000e+00,  1.88142234e+12,\n",
       "        0.00000000e+00,  0.00000000e+00,  1.88142234e+12,  0.00000000e+00,\n",
       "        1.88142234e+12,  1.88142234e+12,  1.88142234e+12,  0.00000000e+00,\n",
       "        0.00000000e+00,  1.88142234e+12,  1.88142234e+12,  1.88142234e+12,\n",
       "        1.88142234e+12,  1.88142234e+12,  0.00000000e+00,  1.88142234e+12,\n",
       "        0.00000000e+00,  0.00000000e+00,  1.88142234e+12,  1.88142234e+12,\n",
       "        1.88142234e+12,  1.88142234e+12,  0.00000000e+00,  0.00000000e+00,\n",
       "        0.00000000e+00,  1.88142234e+12,  0.00000000e+00,  1.88142234e+12,\n",
       "        1.88142234e+12,  0.00000000e+00,  1.88142234e+12,  0.00000000e+00,\n",
       "        1.88142234e+12,  0.00000000e+00,  0.00000000e+00,  1.88142234e+12,\n",
       "        1.88142234e+12,  1.88142234e+12,  0.00000000e+00,  0.00000000e+00,\n",
       "        0.00000000e+00,  0.00000000e+00,  1.88142234e+12,  1.88142234e+12,\n",
       "        0.00000000e+00,  1.88142234e+12,  0.00000000e+00,  1.88142234e+12,\n",
       "        1.88142234e+12,  0.00000000e+00,  0.00000000e+00,  0.00000000e+00,\n",
       "        0.00000000e+00,  1.88142234e+12,  0.00000000e+00,  1.88142234e+12,\n",
       "        0.00000000e+00,  0.00000000e+00,  1.88142234e+12,  0.00000000e+00,\n",
       "        0.00000000e+00,  0.00000000e+00])"
      ]
     },
     "execution_count": 25,
     "metadata": {},
     "output_type": "execute_result"
    }
   ],
   "source": [
    "reg.coef_"
   ]
  },
  {
   "cell_type": "markdown",
   "metadata": {
    "collapsed": true
   },
   "source": [
    "Для решения описанных вами в предыдущем пункте проблем используем L1- или L2-регуляризацию, тем самым получив Lasso и Ridge регрессии соответственно и изменив оптимизационную задачу одним из следующих образов:\n",
    "$$MSE_{L1}(X, y) = \\frac{1}{l} \\sum_{i=1}^l (<w, x_i> - y_i)^2 + \\alpha ||w||_1 \\to \\min_{w},$$\n",
    "$$MSE_{L2}(X, y) = \\frac{1}{l} \\sum_{i=1}^l (<w, x_i> - y_i)^2 + \\alpha ||w||_2^2 \\to \\min_{w},$$\n",
    "\n",
    "где $\\alpha$ — коэффициент регуляризации. Один из способов его подбора заключается в переборе некоторого количества значений и оценке качества на кросс-валидации для каждого из них, после чего выбирается значение, для которого было получено наилучшее качество."
   ]
  },
  {
   "cell_type": "code",
   "execution_count": null,
   "metadata": {},
   "outputs": [],
   "source": [
    "# Your code here"
   ]
  },
  {
   "cell_type": "markdown",
   "metadata": {},
   "source": [
    "__18. (1 балл) __ Обучение линейной регрессии.\n",
    "\n",
    "\n",
    "\n",
    "Обучите линейную регрессию с $L_1$ (Lasso) и $L_2$ (Ridge) регуляризаторами (используйте параметры по умолчанию). Посмотрите, какое количество коэффициентов близко к 0 (степень близости к 0 определите сами из разумных пределов). Постройте график зависимости числа ненулевых коэффициентов от коэффицента регуляризации (перебирайте значения по логарифмической сетке от $10^{-3}$ до $10^3$). Согласуются ли результаты с вашими ожиданиями?"
   ]
  },
  {
   "cell_type": "code",
   "execution_count": 14,
   "metadata": {},
   "outputs": [
    {
     "name": "stdout",
     "output_type": "stream",
     "text": [
      "630\n",
      "280\n"
     ]
    }
   ],
   "source": [
    "from sklearn.linear_model import Lasso, Ridge\n",
    "\n",
    "l = Lasso().fit(X_train[:1000], y_train[:1000])\n",
    "r = Ridge().fit(X_train[:1000], y_train[:1000])\n",
    "print((l.coef_ == 0).sum())\n",
    "print((r.coef_ == 0).sum())"
   ]
  },
  {
   "cell_type": "code",
   "execution_count": 17,
   "metadata": {},
   "outputs": [
    {
     "name": "stderr",
     "output_type": "stream",
     "text": [
      "C:\\Users\\maria\\anaconda3\\lib\\site-packages\\sklearn\\linear_model\\_coordinate_descent.py:530: ConvergenceWarning: Objective did not converge. You might want to increase the number of iterations. Duality gap: 15752.02584898981, tolerance: 105.98166710000001\n",
      "  model = cd_fast.enet_coordinate_descent(\n",
      "C:\\Users\\maria\\anaconda3\\lib\\site-packages\\sklearn\\linear_model\\_coordinate_descent.py:530: ConvergenceWarning: Objective did not converge. You might want to increase the number of iterations. Duality gap: 13370.243586377712, tolerance: 105.98166710000001\n",
      "  model = cd_fast.enet_coordinate_descent(\n",
      "C:\\Users\\maria\\anaconda3\\lib\\site-packages\\sklearn\\linear_model\\_coordinate_descent.py:530: ConvergenceWarning: Objective did not converge. You might want to increase the number of iterations. Duality gap: 10673.184856674105, tolerance: 105.98166710000001\n",
      "  model = cd_fast.enet_coordinate_descent(\n",
      "C:\\Users\\maria\\anaconda3\\lib\\site-packages\\sklearn\\linear_model\\_coordinate_descent.py:530: ConvergenceWarning: Objective did not converge. You might want to increase the number of iterations. Duality gap: 7709.573029923431, tolerance: 105.98166710000001\n",
      "  model = cd_fast.enet_coordinate_descent(\n",
      "C:\\Users\\maria\\anaconda3\\lib\\site-packages\\sklearn\\linear_model\\_coordinate_descent.py:530: ConvergenceWarning: Objective did not converge. You might want to increase the number of iterations. Duality gap: 5069.745676042505, tolerance: 105.98166710000001\n",
      "  model = cd_fast.enet_coordinate_descent(\n",
      "C:\\Users\\maria\\anaconda3\\lib\\site-packages\\sklearn\\linear_model\\_coordinate_descent.py:530: ConvergenceWarning: Objective did not converge. You might want to increase the number of iterations. Duality gap: 3635.048622278584, tolerance: 105.98166710000001\n",
      "  model = cd_fast.enet_coordinate_descent(\n",
      "C:\\Users\\maria\\anaconda3\\lib\\site-packages\\sklearn\\linear_model\\_coordinate_descent.py:530: ConvergenceWarning: Objective did not converge. You might want to increase the number of iterations. Duality gap: 3419.714145467122, tolerance: 105.98166710000001\n",
      "  model = cd_fast.enet_coordinate_descent(\n"
     ]
    },
    {
     "data": {
      "image/png": "[encoded data removed]",
      "text/plain": [
       "<Figure size 1080x360 with 2 Axes>"
      ]
     },
     "metadata": {
      "needs_background": "light"
     },
     "output_type": "display_data"
    }
   ],
   "source": [
    "import matplotlib.pyplot as plt\n",
    "\n",
    "alpha = np.logspace(-3, 3, 20)\n",
    "l_coef = []\n",
    "r_coef = []\n",
    "for a in alpha:\n",
    "    lasso = Lasso(a).fit(X_train[:1000], y_train[:1000])\n",
    "    ridge = Ridge(a).fit(X_train[:1000], y_train[:1000])\n",
    "    l_coef.append((lasso.coef_ != 0).sum())\n",
    "    r_coef.append((ridge.coef_ != 0).sum())\n",
    "\n",
    "fig, axs = plt.subplots(1, 2, figsize=(15, 5))\n",
    "axs[0].plot(alpha, l_coef)\n",
    "axs[0].set_title('Lasso')\n",
    "axs[0].set_xscale('log')\n",
    "axs[1].plot(alpha, r_coef)\n",
    "axs[1].set_title('Ridge')\n",
    "axs[1].set_xscale('log')\n",
    "plt.show()"
   ]
  },
  {
   "cell_type": "markdown",
   "metadata": {},
   "source": [
    "Посчитайте для Ridge-регрессии следующие метрики: $RMSE$, $MAE$, $R^2$."
   ]
  },
  {
   "cell_type": "code",
   "execution_count": 18,
   "metadata": {},
   "outputs": [
    {
     "name": "stdout",
     "output_type": "stream",
     "text": [
      "Train MSE: 6.670119553829367\n",
      "Test MSE: 9.769548736614084\n",
      "Train MAE: 5.123913481852686\n",
      "Test MAE: 6.602149694976145\n",
      "Train R2: 0.9580205746146667\n",
      "Test R2: 0.9286489519271959\n"
     ]
    }
   ],
   "source": [
    "from sklearn.metrics import mean_absolute_error, make_scorer\n",
    "\n",
    "def rmse(y_true, y_pred):\n",
    "    error = (y_true - y_pred) ** 2\n",
    "    return np.sqrt(np.mean(error))\n",
    "\n",
    "rmse_scorer = make_scorer(\n",
    "    rmse,\n",
    "    greater_is_better=False\n",
    ")\n",
    "\n",
    "y_train_pred_ridge = r.predict(X_train[:1000])\n",
    "y_pred_ridge = r.predict(X_test)\n",
    "print('Train MSE:', rmse(y_train[:1000], y_train_pred_ridge))\n",
    "print('Test MSE:', rmse(y_test, y_pred_ridge))\n",
    "print('Train MAE:', mean_absolute_error(y_train[:1000], y_train_pred_ridge))\n",
    "print('Test MAE:', mean_absolute_error(y_test, y_pred_ridge))\n",
    "print('Train R2:', r2_score(y_train[:1000], y_train_pred_ridge))\n",
    "print('Test R2:', r2_score(y_test, y_pred_ridge))"
   ]
  },
  {
   "cell_type": "markdown",
   "metadata": {},
   "source": [
    "Подберите на обучающей выборке для Ridge-регрессии коэффициент регуляризации (перебирайте значения по логарифмической сетке от $10^{-3}$ до $10^3$) для каждой из метрик при помощи кросс-валидации c 5 фолдами на тех же 1000 объектах. Для этого воспользуйтесь GridSearchCV и KFold из sklearn. Постройте графики зависимости фукнции потерь от коэффициента регуляризации. Посчитайте те же метрики снова. Заметно ли изменилось качество?\n",
    "\n",
    "Для выполнения данного задания вам могут понадобиться реализованные в библиотеке объекты [LassoCV](http://scikit-learn.org/stable/modules/generated/sklearn.linear_model.LassoCV.html), [RidgeCV](http://scikit-learn.org/stable/modules/generated/sklearn.linear_model.RidgeCV.html) и [KFold](http://scikit-learn.org/stable/modules/generated/sklearn.cross_validation.KFold.html)."
   ]
  },
  {
   "cell_type": "code",
   "execution_count": null,
   "metadata": {},
   "outputs": [],
   "source": []
  },
  {
   "cell_type": "markdown",
   "metadata": {
    "collapsed": true
   },
   "source": [
    "__19. (0.5 балла)__ Поиск объектов-выбросов\n",
    "\n",
    "\n",
    "Как известно, MSE сильно штрафует за большие ошибки на объектах-выбросах. С помощью cross_val_predict сделайте Out-of-Fold предсказания для обучающей выборки. Посчитайте ошибки и посмотрите на их распределение (plt.hist). Что вы видите?"
   ]
  },
  {
   "cell_type": "code",
   "execution_count": null,
   "metadata": {},
   "outputs": [],
   "source": []
  }
 ],
 "metadata": {
  "kernelspec": {
   "display_name": "Python 3",
   "language": "python",
   "name": "python3"
  },
  "language_info": {
   "codemirror_mode": {
    "name": "ipython",
    "version": 3
   },
   "file_extension": ".py",
   "mimetype": "text/x-python",
   "name": "python",
   "nbconvert_exporter": "python",
   "pygments_lexer": "ipython3",
   "version": "3.8.8"
  }
 },
 "nbformat": 4,
 "nbformat_minor": 1
}
